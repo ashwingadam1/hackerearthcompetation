{
 "cells": [
  {
   "cell_type": "code",
   "execution_count": 1,
   "metadata": {
    "collapsed": true
   },
   "outputs": [],
   "source": [
    "import pandas as pd\n",
    "import numpy as np\n",
    "from sklearn.cluster import KMeans\n",
    "from sklearn.metrics import silhouette_score\n",
    "from sklearn.preprocessing import LabelEncoder, RobustScaler"
   ]
  },
  {
   "cell_type": "code",
   "execution_count": 2,
   "metadata": {},
   "outputs": [],
   "source": [
    "\n",
    "## load data\n",
    "products = pd.read_csv('/home/ashwin/Downloads/hackerearth/h1/cluster/cproducts.csv')\n",
    "tender = pd.read_csv('/home/ashwin/Downloads/hackerearth/h1/cluster/ctender.csv')"
   ]
  },
  {
   "cell_type": "code",
   "execution_count": 3,
   "metadata": {},
   "outputs": [
    {
     "name": "stdout",
     "output_type": "stream",
     "text": [
      "product file has 11972 rows and 16 columns\ntender file has 149752 rows and 13 columns\n"
     ]
    }
   ],
   "source": [
    "\n",
    "\n",
    "print('product file has {} rows and {} columns'.format(products.shape[0], products.shape[1]))\n",
    "print('tender file has {} rows and {} columns'.format(tender.shape[0], tender.shape[1]))"
   ]
  },
  {
   "cell_type": "code",
   "execution_count": 4,
   "metadata": {},
   "outputs": [
    {
     "name": "stdout",
     "output_type": "stream",
     "text": [
      "customerID                       0\nDOB                            319\nGender                        1028\nState                         1583\nPinCode                        817\ntransactionDate                  0\nstore_code                       0\nstore_description                0\ntill_no                          0\ntransaction_number_by_till       0\npromo_code                       0\npromotion_description         8510\nproduct_code                     0\nproduct_description              0\nsale_price_after_promo           0\ndiscountUsed                     0\ndtype: int64\n----------------\ncustomerID                        0\nDOB                            4596\nGender                         6663\nState                         11650\nPinCode                        5564\ntransactionDate                   0\nstore_code                        0\nstore_description                 0\ntill_no                           0\ntender_type                       0\ntransaction_number_by_till        0\npayment_amount_by_tender          0\nPaymentUsed                    1223\ndtype: int64\n"
     ]
    }
   ],
   "source": [
    "print(products.isnull().sum())\n",
    "print('----------------')\n",
    "print(tender.isnull().sum())"
   ]
  },
  {
   "cell_type": "code",
   "execution_count": 8,
   "metadata": {},
   "outputs": [],
   "source": [
    "\n",
    "products['promotion_description'].fillna(products['promotion_description'].mode()[0], inplace=True)\n",
    "products['Gender'].fillna(products['Gender'].mode()[0], inplace=True)\n",
    "products['State'].fillna('no_state', inplace=True)\n",
    "products['PinCode'].fillna(-1, inplace=True)\n",
    "products['DOB'].fillna(\"1\", inplace=True)\n"
   ]
  },
  {
   "cell_type": "code",
   "execution_count": 9,
   "metadata": {
    "collapsed": true
   },
   "outputs": [],
   "source": [
    "for c in products.columns:\n",
    "    lbl = LabelEncoder()\n",
    "    if products[c].dtype == 'object' and c not in ['store_description','customerID','transactionDate']:\n",
    "        products[c] = lbl.fit_transform(products[c])"
   ]
  },
  {
   "cell_type": "code",
   "execution_count": 10,
   "metadata": {},
   "outputs": [
    {
     "name": "stderr",
     "output_type": "stream",
     "text": [
      "/home/ashwin/anaconda3/lib/python3.6/site-packages/ipykernel_launcher.py:12: SettingWithCopyWarning: \nA value is trying to be set on a copy of a slice from a DataFrame\n\nSee the caveats in the documentation: http://pandas.pydata.org/pandas-docs/stable/indexing.html#indexing-view-versus-copy\n  if sys.path[0] == '':\n"
     ]
    }
   ],
   "source": [
    "stores = list(set(products['store_code']))\n",
    "\n",
    "cluster_labels = []\n",
    "cluster_store = []\n",
    "cluster_data = []\n",
    "cluster_customers = []\n",
    "cluster_score = []\n",
    "\n",
    "for x in stores:\n",
    "    cld = products[products['store_code'] == x]\n",
    "    cluster_customers.append(cld['customerID'])\n",
    "    cld.drop(['store_code','customerID','transactionDate','store_description'], axis=1, inplace=True)\n",
    "    \n",
    "    rbs = RobustScaler()\n",
    "    cld2 = rbs.fit_transform(cld)\n",
    "    \n",
    "    km1 = KMeans(n_clusters=4)\n",
    "    km2 = km1.fit(cld2)\n",
    "    label = km2.predict(cld2)\n",
    "    \n",
    "    s_score = silhouette_score(cld2, label)\n",
    "    cluster_score.append(s_score)\n",
    "    \n",
    "    cluster_labels.append(label)\n",
    "    cluster_store.append(np.repeat(x, cld.shape[0]))\n",
    "    cluster_data.append(cld2)"
   ]
  },
  {
   "cell_type": "code",
   "execution_count": 11,
   "metadata": {},
   "outputs": [
    {
     "data": {
      "text/plain": [
       "0.93365956065872291"
      ]
     },
     "execution_count": 11,
     "metadata": {},
     "output_type": "execute_result"
    }
   ],
   "source": [
    "np.mean(cluster_score)"
   ]
  },
  {
   "cell_type": "code",
   "execution_count": 12,
   "metadata": {},
   "outputs": [],
   "source": [
    "\n",
    "## merge list into ndarray\n",
    "cluster_data = np.concatenate(cluster_data)"
   ]
  },
  {
   "cell_type": "code",
   "execution_count": 13,
   "metadata": {},
   "outputs": [
    {
     "data": {
      "text/plain": [
       "(11972, 12)"
      ]
     },
     "execution_count": 13,
     "metadata": {},
     "output_type": "execute_result"
    }
   ],
   "source": [
    "cluster_data.shape"
   ]
  },
  {
   "cell_type": "code",
   "execution_count": 14,
   "metadata": {},
   "outputs": [],
   "source": [
    "cluster_customers = np.concatenate(cluster_customers)\n",
    "cluster_store = np.concatenate(cluster_store)\n",
    "cluster_labels = np.concatenate(cluster_labels)"
   ]
  },
  {
   "cell_type": "code",
   "execution_count": 15,
   "metadata": {},
   "outputs": [],
   "source": [
    "\n",
    "## create submission files\n",
    "sub1 = pd.DataFrame({'customerID':cluster_customers, 'store_code':cluster_store, 'cluster':cluster_labels})"
   ]
  },
  {
   "cell_type": "code",
   "execution_count": 16,
   "metadata": {},
   "outputs": [],
   "source": [
    "np.savetxt('/home/ashwin/Downloads/hackerearth/h1/cluster/subOne_18.txt', cluster_data)\n",
    "sub1.to_csv('/home/ashwin/Downloads/hackerearth/h1/cluster/subtwo_18.csv', index=False)"
   ]
  },
  {
   "cell_type": "code",
   "execution_count": 25,
   "metadata": {},
   "outputs": [],
   "source": []
  },
  {
   "cell_type": "code",
   "execution_count": null,
   "metadata": {},
   "outputs": [],
   "source": []
  }
 ],
 "metadata": {
  "kernelspec": {
   "display_name": "Python 2",
   "language": "python",
   "name": "python2"
  },
  "language_info": {
   "codemirror_mode": {
    "name": "ipython",
    "version": 2
   },
   "file_extension": ".py",
   "mimetype": "text/x-python",
   "name": "python",
   "nbconvert_exporter": "python",
   "pygments_lexer": "ipython2",
   "version": "2.7.6"
  }
 },
 "nbformat": 4,
 "nbformat_minor": 0
}
