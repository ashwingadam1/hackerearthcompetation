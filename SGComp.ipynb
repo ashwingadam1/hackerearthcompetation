{
 "cells": [
  {
   "cell_type": "code",
   "execution_count": 34,
   "metadata": {
    "collapsed": true
   },
   "outputs": [
    {
     "name": "stdout",
     "output_type": "stream",
     "text": [
      "Populating the interactive namespace from numpy and matplotlib\n"
     ]
    },
    {
     "name": "stderr",
     "output_type": "stream",
     "text": [
      "/home/ashwin/anaconda3/lib/python3.6/site-packages/IPython/core/magics/pylab.py:160: UserWarning: pylab import has clobbered these variables: ['test', 'var']\n`%matplotlib` prevents importing * from pylab and numpy\n  \"\\n`%matplotlib` prevents importing * from pylab and numpy\"\n"
     ]
    }
   ],
   "source": [
    "import numpy as np\n",
    "import pandas as pd\n",
    "import matplotlib.pyplot as plt\n",
    "import seaborn as sns\n",
    "import scipy.stats as stats \n",
    "from scipy import stats\n",
    "from sklearn import preprocessing\n",
    "from  sklearn.decomposition import PCA\n",
    "from sklearn.linear_model import LinearRegression, Ridge, Lasso\n",
    "import scipy.sparse\n",
    "from sklearn.feature_selection import RFE\n",
    "from sklearn.linear_model import ElasticNet\n",
    "from nltk.stem.wordnet import WordNetLemmatizer \n",
    "from nltk.corpus import stopwords\n",
    "from nltk.tokenize import word_tokenize\n",
    "import xgboost \n",
    "from sklearn.grid_search import GridSearchCV\n",
    "import re\n",
    "from catboost import Pool, CatBoostClassifier\n",
    "from sklearn.externals import joblib\n",
    "import sklearn.metrics as metrics\n",
    "from imblearn.combine import SMOTETomek\n",
    "from sklearn.naive_bayes import BernoulliNB\n",
    "from sklearn.ensemble import RandomForestRegressor\n",
    "from sklearn.svm import SVC\n",
    "from sklearn.linear_model import LogisticRegression\n",
    "from imblearn.over_sampling import SMOTE\n",
    "from sklearn.neural_network import MLPClassifier\n",
    "from sklearn.feature_extraction.text import CountVectorizer, TfidfVectorizer\n",
    "%pylab inline\n",
    "%matplotlib inline"
   ]
  },
  {
   "cell_type": "code",
   "execution_count": 35,
   "metadata": {},
   "outputs": [],
   "source": [
    "train=pd.read_csv('/home/ashwin/Downloads/hackerearth/sg/train.csv')\n",
    "test=pd.read_csv('/home/ashwin/Downloads/hackerearth/sg/test.csv')"
   ]
  },
  {
   "cell_type": "code",
   "execution_count": 36,
   "metadata": {},
   "outputs": [],
   "source": [
    "print(train.shape)\n",
    "print(test.shape)"
   ]
  },
  {
   "cell_type": "code",
   "execution_count": 37,
   "metadata": {},
   "outputs": [
    {
     "name": "stdout",
     "output_type": "stream",
     "text": [
      "(14167, 17)\n         start_date          sold  euribor_rate    libor_rate        bought  \\\ncount  1.416700e+04  1.416500e+04  14167.000000  13428.000000  1.416500e+04   \nmean   2.011755e+07  1.021504e+08      0.009157      0.975230  1.020694e+08   \nstd    3.033168e+04  1.755156e+08      0.013117      1.434853  1.754500e+08   \nmin    2.004041e+07  1.100000e+00     -0.003740     -0.667095  1.099698e+00   \n25%    2.010031e+07  2.806100e+07      0.000970      0.241745  2.805996e+07   \n50%    2.011121e+07  5.604500e+07      0.004280      0.531493  5.595940e+07   \n75%    2.014080e+07  1.166000e+08      0.013510      1.084377  1.161812e+08   \nmax    2.017103e+07  1.320000e+10      0.050880      6.434407  1.320000e+10   \n\n       creation_date     sell_date  \ncount   1.416700e+04  1.416700e+04  \nmean    2.011754e+07  2.011818e+07  \nstd     3.032592e+04  3.042891e+04  \nmin     2.004072e+07  2.004071e+07  \n25%     2.010031e+07  2.010033e+07  \n50%     2.011121e+07  2.011122e+07  \n75%     2.014080e+07  2.014091e+07  \nmax     2.017103e+07  2.017103e+07  \n"
     ]
    }
   ],
   "source": [
    "target=train['return']\n",
    "train=train.drop('return',axis=1)\n",
    "combain_data=train.append(test)\n",
    "print(combain_data.shape)\n",
    "print(combain_data.describe())"
   ]
  },
  {
   "cell_type": "code",
   "execution_count": 38,
   "metadata": {},
   "outputs": [
    {
     "data": {
      "text/plain": [
       "portfolio_id         0\ndesk_id           5613\noffice_id            0\npf_category          0\nstart_date           0\nsold                 2\ncountry_code         0\neuribor_rate         0\ncurrency             0\nlibor_rate         739\nbought               2\ncreation_date        0\nindicator_code    8550\nsell_date            0\ntype                 0\nhedge_value       8552\nstatus            4541\ndtype: int64"
      ]
     },
     "execution_count": 38,
     "metadata": {},
     "output_type": "execute_result"
    }
   ],
   "source": [
    "combain_data.isnull().sum()"
   ]
  },
  {
   "cell_type": "code",
   "execution_count": 39,
   "metadata": {},
   "outputs": [],
   "source": [
    "combain_data=combain_data.drop('desk_id',axis=1)\n",
    "combain_data=combain_data.drop('portfolio_id',axis=1)\n",
    "combain_data['sold']=combain_data['sold'].fillna(combain_data['sold'].mean())\n",
    "combain_data['bought']=combain_data['bought'].fillna(combain_data['bought'].mean())\n",
    "combain_data['libor_rate']=combain_data['libor_rate']\\\n",
    "    .fillna(combain_data['libor_rate'].mean())\n",
    "combain_data['indicator_code']=combain_data['indicator_code']\\\n",
    "    .fillna(False)\n",
    "combain_data['hedge_value']=combain_data['hedge_value']\\\n",
    "    .fillna(True)\n",
    "combain_data['status']=combain_data['hedge_value']\\\n",
    "    .fillna(False)"
   ]
  },
  {
   "cell_type": "code",
   "execution_count": 40,
   "metadata": {},
   "outputs": [
    {
     "data": {
      "text/plain": [
       "<matplotlib.axes._subplots.AxesSubplot at 0x7fccfeb10a20>"
      ]
     },
     "execution_count": 40,
     "metadata": {},
     "output_type": "execute_result"
    },
    {
     "data": {
      "image/png": "[encoded data removed]",
      "text/plain": [
       "<matplotlib.figure.Figure at 0x7fccfeb5d6a0>"
      ]
     },
     "metadata": {},
     "output_type": "display_data"
    }
   ],
   "source": [
    "combain_data['pf_category'].value_counts().plot(kind='bar')"
   ]
  },
  {
   "cell_type": "code",
   "execution_count": 41,
   "metadata": {},
   "outputs": [],
   "source": [
    "\n",
    "#combain_data=combain_data.dropna(thresh=0.8*(len(combain_data)),axis=1)\n",
    "combain_data.shape\n"
   ]
  },
  {
   "cell_type": "code",
   "execution_count": 42,
   "metadata": {},
   "outputs": [
    {
     "name": "stdout",
     "output_type": "stream",
     "text": [
      "['office_id', 'pf_category', 'start_date', 'sold', 'country_code', 'euribor_rate', 'currency', 'libor_rate', 'bought', 'creation_date', 'indicator_code', 'sell_date', 'type', 'hedge_value', 'status']\n"
     ]
    }
   ],
   "source": [
    "print(list(combain_data))"
   ]
  },
  {
   "cell_type": "code",
   "execution_count": 43,
   "metadata": {},
   "outputs": [],
   "source": [
    "combain_data['start_date']=combain_data['start_date'].astype('str')\n",
    "combain_data['creation_date']=combain_data['creation_date'].astype('str')\n",
    "combain_data['sell_date']=combain_data['sell_date'].astype('str')\n",
    "\n",
    "combain_data['start_date']=combain_data['start_date']\\\n",
    "    .apply(lambda x:x[0:4]+'-'+x[4:6]+'-'+x[6:])\n",
    "combain_data['creation_date']=combain_data['creation_date']\\\n",
    "    .apply(lambda x:x[0:4]+'-'+x[4:6]+'-'+x[6:])\n",
    "combain_data['sell_date']=combain_data['sell_date']\\\n",
    "    .apply(lambda x:x[0:4]+'-'+x[4:6]+'-'+x[6:])\n",
    "\n",
    "combain_data['start_date']=pd.to_datetime(combain_data['start_date'])\n",
    "combain_data['creation_date']=pd.to_datetime(combain_data['creation_date'])\n",
    "combain_data['sell_date']=pd.to_datetime(combain_data['sell_date'])\n",
    "\n",
    "combain_data['start_sell']=(combain_data['sell_date']\n",
    "                              -combain_data['start_date'])/np.timedelta64(1, 'D')\n",
    "combain_data['creation_sell']=(combain_data['sell_date']\n",
    "                              -combain_data['creation_date'])/np.timedelta64(1, 'D')\n",
    "combain_data['start_creation']=(combain_data['start_date']\n",
    "                              -combain_data['creation_date'])/np.timedelta64(1, 'D')\n",
    "\n",
    "combain_data['year_sd'] = combain_data['start_date'].dt.year\n",
    "combain_data['month_sd'] = combain_data['start_date'].dt.month\n",
    "combain_data['day_sd'] = combain_data['start_date'].dt.day\n",
    "\n",
    "combain_data['year_cd'] = combain_data['creation_date'].dt.year\n",
    "combain_data['month_cd'] = combain_data['creation_date'].dt.month\n",
    "combain_data['day_cd'] = combain_data['creation_date'].dt.day\n",
    "\n",
    "combain_data['year_ssd'] = combain_data['sell_date'].dt.year\n",
    "combain_data['month_ssd'] = combain_data['sell_date'].dt.month\n",
    "combain_data['day_ssd'] = combain_data['sell_date'].dt.day"
   ]
  },
  {
   "cell_type": "code",
   "execution_count": 44,
   "metadata": {},
   "outputs": [],
   "source": [
    "combain_data=combain_data.drop('start_date',axis=1)\n",
    "combain_data=combain_data.drop('creation_date',axis=1)\n",
    "combain_data=combain_data.drop('sell_date',axis=1)"
   ]
  },
  {
   "cell_type": "code",
   "execution_count": 45,
   "metadata": {},
   "outputs": [],
   "source": [
    "combain_data[['indicator_code','hedge_value','status']]=\\\n",
    "    combain_data[['indicator_code','hedge_value','status']].astype('str')\n"
   ]
  },
  {
   "cell_type": "code",
   "execution_count": 46,
   "metadata": {},
   "outputs": [
    {
     "data": {
      "text/plain": [
       "<matplotlib.axes._subplots.AxesSubplot at 0x7fccfab30a58>"
      ]
     },
     "execution_count": 46,
     "metadata": {},
     "output_type": "execute_result"
    },
    {
     "data": {
      "image/png": "[encoded data removed]",
      "text/plain": [
       "<matplotlib.figure.Figure at 0x7fccfab9aac8>"
      ]
     },
     "metadata": {},
     "output_type": "display_data"
    }
   ],
   "source": [
    "\n",
    "sns.distplot(combain_data['start_creation'])"
   ]
  },
  {
   "cell_type": "code",
   "execution_count": 47,
   "metadata": {},
   "outputs": [
    {
     "data": {
      "text/plain": [
       "<matplotlib.axes._subplots.AxesSubplot at 0x7fccfa5387b8>"
      ]
     },
     "execution_count": 47,
     "metadata": {},
     "output_type": "execute_result"
    },
    {
     "data": {
      "image/png": "[encoded data removed]",
      "text/plain": [
       "<matplotlib.figure.Figure at 0x7fccff0310f0>"
      ]
     },
     "metadata": {},
     "output_type": "display_data"
    }
   ],
   "source": [
    "#print(stats.stats.pearsonr(combain_data,combain_data))\n",
    "#np.corrcoef(combain_data,combain_data)\n",
    "#plt.matshow(combain_data.corr())\n",
    "corr = combain_data.corr()\n",
    "sns.heatmap(corr, \n",
    "            xticklabels=corr.columns.values,\n",
    "            yticklabels=corr.columns.values)"
   ]
  },
  {
   "cell_type": "code",
   "execution_count": 48,
   "metadata": {},
   "outputs": [],
   "source": [
    "combain_data=combain_data.drop('sold',axis=1)\n",
    "combain_data=combain_data.drop('creation_sell',axis=1)\n",
    "combain_data=combain_data.drop('year_cd',axis=1)\n",
    "combain_data=combain_data.drop('month_cd',axis=1)\n",
    "combain_data=combain_data.drop('day_cd',axis=1)\n",
    "combain_data=combain_data.drop('year_ssd',axis=1)\n",
    "#sns.regplot(x=combain_data['euribor_rate'], y=combain_data['year_sd'], data=combain_data)\n",
    "#sns.regplot(x=combain_data['libor_rate'], y=combain_data['year'], data=combain_data)"
   ]
  },
  {
   "cell_type": "code",
   "execution_count": 49,
   "metadata": {},
   "outputs": [],
   "source": [
    "combain_data[['year_sd', 'month_sd', 'day_sd', 'month_ssd', 'day_ssd']]=\\\n",
    "combain_data[['year_sd', 'month_sd', 'day_sd', 'month_ssd','day_ssd']].astype('str')"
   ]
  },
  {
   "cell_type": "code",
   "execution_count": 50,
   "metadata": {},
   "outputs": [],
   "source": [
    "#combain_data['euribor_libour']=combain_data['euribor_rate']*combain_data['libor_rate']\n",
    "#combain_data['euribor_bought']=combain_data['euribor_rate']*combain_data['bought']\n",
    "#combain_data['euribor_start_sell']=combain_data['euribor_rate']*combain_data['start_sell']\n",
    "#combain_data['euribor_start_creation']=combain_data['euribor_rate']*combain_data['start_creation']\n",
    "#combain_data['libour_bought']=combain_data['libor_rate']*combain_data['bought']\n",
    "#combain_data['libour_start_sell']=combain_data['libor_rate']*combain_data['start_sell']\n",
    "#combain_data['euribor_start_creation']=combain_data['libor_rate']*combain_data['start_creation']\n",
    "#combain_data['bought_start_sell']=combain_data['bought']*combain_data['start_sell']\n",
    "#combain_data['bought_start_creation']=combain_data['bought']*combain_data['start_creation']\n",
    "#combain_data['start_sell_start_creation']=combain_data['start_sell']*combain_data['start_creation']"
   ]
  },
  {
   "cell_type": "code",
   "execution_count": 51,
   "metadata": {},
   "outputs": [
    {
     "data": {
      "text/plain": [
       "office_id          object\npf_category        object\ncountry_code       object\neuribor_rate      float64\ncurrency           object\nlibor_rate        float64\nbought            float64\nindicator_code     object\ntype               object\nhedge_value        object\nstatus             object\nstart_sell        float64\nstart_creation    float64\nyear_sd            object\nmonth_sd           object\nday_sd             object\nmonth_ssd          object\nday_ssd            object\ndtype: object"
      ]
     },
     "execution_count": 51,
     "metadata": {},
     "output_type": "execute_result"
    }
   ],
   "source": [
    "combain_data.dtypes"
   ]
  },
  {
   "cell_type": "code",
   "execution_count": 53,
   "metadata": {},
   "outputs": [],
   "source": [
    "#combain_data['country_currency'] = \\\n",
    "#    combain_data[['country_code', 'currency']].apply(lambda x: ''.join(x), axis=1)\n",
    "#combain_data['month_sd_ssd'] = \\\n",
    "#    combain_data[['month_sd', 'month_ssd']].apply(lambda x: ''.join(x), axis=1)\n",
    "#combain_data['day_sd_ssd'] = \\\n",
    "#    combain_data[['day_sd', 'day_ssd']].apply(lambda x: ''.join(x), axis=1)\n",
    "#combain_data['indicator_code_type'] = \\\n",
    "#    combain_data[['indicator_code', 'type']].apply(lambda x: ''.join(x), axis=1)\n",
    "#combain_data['hedge_value_status'] = \\\n",
    "#    combain_data[['hedge_value', 'status']].apply(lambda x: ''.join(x), axis=1)\n",
    "#combain_data['country_currency_indicator'] = \\\n",
    "#    combain_data[['country_code', 'currency','indicator_code']].apply(lambda x: ''.join(x), axis=1)\n",
    "#combain_data['hedge_value_status_type'] =\\\n",
    "#    combain_data[['hedge_value', 'status','type']].apply(lambda x: ''.join(x), axis=1)"
   ]
  },
  {
   "cell_type": "code",
   "execution_count": 54,
   "metadata": {},
   "outputs": [],
   "source": [
    "combain_data[['indicator_code','hedge_value','status']]=\\\n",
    "    combain_data[['indicator_code','hedge_value','status']].astype('object')\n"
   ]
  },
  {
   "cell_type": "code",
   "execution_count": 55,
   "metadata": {},
   "outputs": [
    {
     "data": {
      "text/plain": [
       "['office_id',\n 'pf_category',\n 'country_code',\n 'currency',\n 'indicator_code',\n 'type',\n 'hedge_value',\n 'status',\n 'year_sd',\n 'month_sd',\n 'day_sd',\n 'month_ssd',\n 'day_ssd']"
      ]
     },
     "execution_count": 55,
     "metadata": {},
     "output_type": "execute_result"
    }
   ],
   "source": [
    "\n",
    "numerical_var=[f for f in combain_data.columns if combain_data.dtypes[f] \n",
    "        == 'float64']\n",
    "catagorical_var=[f for f in combain_data.columns if combain_data.dtypes[f] \n",
    "                 == 'object']\n",
    "#catagorical_var.extend(['year_sd', 'month_sd', 'day_sd', 'month_ssd',\n",
    "#              'day_ssd'])\n",
    "\n",
    "catagorical_var"
   ]
  },
  {
   "cell_type": "code",
   "execution_count": 56,
   "metadata": {},
   "outputs": [
    {
     "data": {
      "text/plain": [
       "['euribor_rate', 'libor_rate', 'bought', 'start_sell', 'start_creation']"
      ]
     },
     "execution_count": 56,
     "metadata": {},
     "output_type": "execute_result"
    }
   ],
   "source": [
    "numerical_var"
   ]
  },
  {
   "cell_type": "code",
   "execution_count": 57,
   "metadata": {},
   "outputs": [
    {
     "data": {
      "text/plain": [
       "(14167, 131)"
      ]
     },
     "execution_count": 57,
     "metadata": {},
     "output_type": "execute_result"
    }
   ],
   "source": [
    "dummy_data=pd.get_dummies(combain_data[catagorical_var])\n",
    "dummy_data.shape"
   ]
  },
  {
   "cell_type": "code",
   "execution_count": 58,
   "metadata": {},
   "outputs": [
    {
     "name": "stdout",
     "output_type": "stream",
     "text": [
      "euribor_rate\n1.666003850796887\nlibor_rate\n1.7699014547206413\nbought\n31.32457648642434\nstart_sell\n1.3599215619073817\nstart_creation\n-13.209380668777703\n"
     ]
    }
   ],
   "source": [
    "for var in numerical_var:\n",
    "        print(var)\n",
    "        print(stats.skew(combain_data[var]))"
   ]
  },
  {
   "cell_type": "code",
   "execution_count": 59,
   "metadata": {},
   "outputs": [],
   "source": [
    "scaler = preprocessing.StandardScaler()\n",
    "i=0\n",
    "combain_data1=pd.DataFrame()\n",
    "while(i<=5):\n",
    "    for c in numerical_var:\n",
    "        #if c not in ['start_sell','creation_sell']:\n",
    "        if c not in ['start_sell','creation_sell','euribor_bought','euribor_start_sell','libour_bought','libour_start_sell','bought_start_sell' ]:\n",
    "            if(stats.skew(combain_data[c])>0 and stats.skew(combain_data[c])>0.75):\n",
    "                combain_data1[c]=np.log1p(combain_data[c])\n",
    "            elif(stats.skew(combain_data[c])<0 and stats.skew(combain_data[c])<-0.75):\n",
    "                combain_data1[c] = combain_data[c]**3\n",
    "                combain_data1[c] = scaler.fit_transform(combain_data[[c]])\n",
    "        elif c not in ['euribor_bought','euribor_start_sell']:\n",
    "            combain_data1[c] = scaler.fit_transform(combain_data[[c]])\n",
    "        else:\n",
    "            combain_data1[c]=combain_data[c]\n",
    "    i=i+1"
   ]
  },
  {
   "cell_type": "code",
   "execution_count": 60,
   "metadata": {},
   "outputs": [
    {
     "name": "stdout",
     "output_type": "stream",
     "text": [
      "euribor_rate\n1.641394536110161\nlibor_rate\n-0.15310359978936172\nbought\n-1.723767528254821\nstart_sell\n1.3599215619073817\nstart_creation\n-13.209380668777692\n"
     ]
    }
   ],
   "source": [
    "for var in numerical_var:\n",
    "        print(var)\n",
    "        print(stats.skew(combain_data1[var]))"
   ]
  },
  {
   "cell_type": "code",
   "execution_count": 61,
   "metadata": {},
   "outputs": [
    {
     "data": {
      "text/plain": [
       "(14167, 136)"
      ]
     },
     "execution_count": 61,
     "metadata": {},
     "output_type": "execute_result"
    }
   ],
   "source": [
    "\n",
    "combain_data=combain_data1\n",
    "combain_data=pd.concat([combain_data,dummy_data],axis=1)\n",
    "combain_data.shape"
   ]
  },
  {
   "cell_type": "code",
   "execution_count": 62,
   "metadata": {},
   "outputs": [],
   "source": [
    "train=combain_data[:9366]\n",
    "test=combain_data[9366:]"
   ]
  },
  {
   "cell_type": "code",
   "execution_count": 63,
   "metadata": {
    "collapsed": true
   },
   "outputs": [],
   "source": [
    "test_data=pd.read_csv('/home/ashwin/Downloads/hackerearth/sg/test.csv')\n",
    "lasso_mod=Lasso(normalize=True)\n",
    "parameters = {'alpha':[0.0001,0.001,0.01,0.1,1,5,10,20]}\n",
    "lasso_reg = GridSearchCV(lasso_mod, parameters, n_jobs=-1,  \n",
    "                   scoring='r2',cv=10,\n",
    "                 refit=True)\n",
    "lasso_reg.fit(train,target)\n",
    "\n",
    "predictions=lasso_reg.predict(test)\n",
    "submission=pd.DataFrame()\n",
    "submission['portfolio_id']=test_data['portfolio_id']\n",
    "submission['return']=predictions\n",
    "submission.to_csv('/home/ashwin/Downloads/hackerearth/sg/submissionlasso.csv'\n",
    "                  ,index=False)"
   ]
  },
  {
   "cell_type": "code",
   "execution_count": 31,
   "metadata": {},
   "outputs": [],
   "source": [
    "test_data=pd.read_csv('/home/ashwin/Downloads/hackerearth/sg/test.csv')\n",
    "regr = LinearRegression( normalize=True)\n",
    "regr.fit(train,target)\n",
    "predictions=regr.predict(test)\n",
    "submission=pd.DataFrame()\n",
    "submission['portfolio_id']=test_data['portfolio_id']\n",
    "submission['return']=predictions\n",
    "submission.to_csv('/home/ashwin/Downloads/hackerearth/sg/submissionleniar.csv'\n",
    "                  ,index=False)"
   ]
  },
  {
   "cell_type": "code",
   "execution_count": 33,
   "metadata": {
    "collapsed": true
   },
   "outputs": [],
   "source": [
    "test_data=pd.read_csv('/home/ashwin/Downloads/hackerearth/sg/test.csv')\n",
    "ridge_mod=Ridge(normalize=True,max_iter=100000)\n",
    "parameters = {'alpha':[0.0001,0.001,0.01,0.1,1,5,10,20,50,100,1000,2500]}\n",
    "ridge_reg = GridSearchCV(ridge_mod, parameters, n_jobs=-1,  \n",
    "                   scoring='r2',cv=50,\n",
    "                 refit=True)\n",
    "ridge_reg.fit(train,target)\n",
    "\n",
    "predictions=ridge_reg.predict(test)\n",
    "submission=pd.DataFrame()\n",
    "submission['portfolio_id']=test_data['portfolio_id']\n",
    "submission['return']=predictions\n",
    "submission.to_csv('/home/ashwin/Downloads/hackerearth/sg/submissionridge.csv'\n",
    "                  ,index=False)"
   ]
  },
  {
   "cell_type": "code",
   "execution_count": null,
   "metadata": {},
   "outputs": [],
   "source": [
    "test_data=pd.read_csv('/home/ashwin/Downloads/hackerearth/sg/test.csv')\n",
    "model = RandomForestRegressor(n_estimators = 2000, oob_score = True, \n",
    "                n_jobs = -1)\n",
    "model.fit(train,target)\n",
    "#rfe = RFE(model, 50)\n",
    "#model_ref = rfe.fit(train, target)\n",
    "predictions=model.predict(test)\n",
    "submission=pd.DataFrame()\n",
    "submission['portfolio_id']=test_data['portfolio_id']\n",
    "submission['return']=predictions\n",
    "submission.to_csv('/home/ashwin/Downloads/hackerearth/sg/submissionrf.csv'\n",
    "                  ,index=False)"
   ]
  },
  {
   "cell_type": "code",
   "execution_count": 1,
   "metadata": {},
   "outputs": [],
   "source": [
    ",max_features = \"auto\"\n",
    "                                   , min_samples_leaf = 1"
   ]
  },
  {
   "cell_type": "code",
   "execution_count": null,
   "metadata": {},
   "outputs": [],
   "source": [
    "test_data=pd.read_csv('/home/ashwin/Downloads/hackerearth/sg/test.csv')\n",
    "xgb = xgboost.XGBRegressor(n_estimators=100, learning_rate=0.01, gamma=0, subsample=0.75,\n",
    "                           colsample_bytree=1, max_depth=15)\n",
    "xgb.fit(scipy.sparse.csr_matrix(train),target)\n",
    "predictions=xgb.predict(scipy.sparse.csr_matrix(test))\n",
    "submission=pd.DataFrame()\n",
    "submission['portfolio_id']=test_data['portfolio_id']\n",
    "submission['return']=predictions\n",
    "submission.to_csv('/home/ashwin/Downloads/hackerearth/sg/submissionxgb.csv'\n",
    "                  ,index=False)\n"
   ]
  }
 ],
 "metadata": {
  "kernelspec": {
   "display_name": "Python 2",
   "language": "python",
   "name": "python2"
  },
  "language_info": {
   "codemirror_mode": {
    "name": "ipython",
    "version": 2
   },
   "file_extension": ".py",
   "mimetype": "text/x-python",
   "name": "python",
   "nbconvert_exporter": "python",
   "pygments_lexer": "ipython2",
   "version": "2.7.6"
  }
 },
 "nbformat": 4,
 "nbformat_minor": 0
}
